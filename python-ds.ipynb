{
 "cells": [
  {
   "cell_type": "markdown",
   "metadata": {},
   "source": [
    "# Web Mining and Applied NLP (44-620)\n",
    "\n",
    "## Python Notebooks, Basics, and Data Structures\n",
    "\n",
    "### Student Name:  Sushma Pamidi\n",
    "\n",
    "Perform the tasks described in the Markdown cells below.  When you have completed the assignment make sure your code cells have all been run (and have output beneath them) and ensure you have committed and pushed ALL of your changes to your assignment repository.\n",
    "\n",
    "Every question that requires you to write code will have a code cell underneath it; you may either write your entire solution in that cell or write it in a python file (`.py`), then import and run the appropriate code to answer the question.\n",
    "\n",
    "Do not use external modules (`math`, etc) for this assignment unless you are explicitly instructed to, though you may use built in python functions (`min`, `max`, etc) as you wish."
   ]
  },
  {
   "cell_type": "markdown",
   "metadata": {},
   "source": [
    "1. Modify the Markdown cell above to put your name after \"Student Name:\"; you will be expected to do this in all assignments presented in this format for this class."
   ]
  },
  {
   "cell_type": "markdown",
   "metadata": {},
   "source": [
    "2. Write code that divides any two numbers, stores the result in a variable, and prints the result with an appropriate label."
   ]
  },
  {
   "cell_type": "code",
   "execution_count": 1,
   "metadata": {},
   "outputs": [
    {
     "name": "stdin",
     "output_type": "stream",
     "text": [
      "Enter the first number:  6\n",
      "Enter the Second number:  3\n"
     ]
    },
    {
     "name": "stdout",
     "output_type": "stream",
     "text": [
      "2.0\n"
     ]
    }
   ],
   "source": [
    "num1=int(input(\"Enter the first number: \"))\n",
    "num2=int(input(\"Enter the Second number: \"))\n",
    "result=num1/num2;\n",
    "print(result)"
   ]
  },
  {
   "cell_type": "markdown",
   "metadata": {},
   "source": [
    "3. Using loops (and potentially conditionals), write Python code that prints the factorial of each integer from 1 through 10 (which you can store in a variable if you want). The factorial of an integer is the product of all of the integers of 1 through the number. Print the result with an appropriate label."
   ]
  },
  {
   "cell_type": "code",
   "execution_count": 11,
   "metadata": {},
   "outputs": [
    {
     "name": "stdin",
     "output_type": "stream",
     "text": [
      "Enter the a number:  5\n"
     ]
    },
    {
     "name": "stdout",
     "output_type": "stream",
     "text": [
      "The factorial of 5 is 120\n"
     ]
    }
   ],
   "source": [
    "#Program to find the factorial of an integer\n",
    "\n",
    "num=int(input(\"Enter the a number: \"))\n",
    "factorial = 1\n",
    "if num < 0:\n",
    "    print(\"Factorial does not exist for negative numbers\")\n",
    "elif num == 0:\n",
    "    print(\"Factorial of 0 is 1\")\n",
    "else:\n",
    "    for i in range(1,num+1):\n",
    "        factorial = factorial*i\n",
    "    print(\"The factorial of\",num,\"is\",factorial)"
   ]
  },
  {
   "cell_type": "markdown",
   "metadata": {},
   "source": [
    "4. Write a python function that takes a single parameter and calculates and returns the average (mean) of the values in the parameter (which you may assume is iterable).  Show that your function works by printing the result of calling the function on the list in the cell below."
   ]
  },
  {
   "cell_type": "code",
   "execution_count": 14,
   "metadata": {},
   "outputs": [
    {
     "name": "stdout",
     "output_type": "stream",
     "text": [
      "Mean is  0.0\n"
     ]
    }
   ],
   "source": [
    "testlist = [1,-1,2,-2,3,-3,4,-4]\n",
    "\n",
    "def mean(testlist):\n",
    "    return sum(testlist) / len(testlist)\n",
    "\n",
    "mean = mean(testlist)\n",
    "\n",
    "print(\"Mean is \", mean)"
   ]
  },
  {
   "cell_type": "markdown",
   "metadata": {},
   "source": [
    "5. Using your mean function above, write a function that calculates the variance of the list of numbers (see https://en.wikipedia.org/wiki/Variance for more information on the formula). In short:\n",
    "* subtract the mean of the elements in the list from every element in the list; store these values in a new list\n",
    "* square every element in the new list and sum the elements together\n",
    "* divide the resulting number by N (where N is the length of the original list)\n",
    "\n",
    "Show the result of calling your function in the lists in the code cell. You must use one or more list comprehensions or map/filter in your code.\n"
   ]
  },
  {
   "cell_type": "code",
   "execution_count": 83,
   "metadata": {},
   "outputs": [
    {
     "name": "stdout",
     "output_type": "stream",
     "text": [
      "Mean of list1 is  -0.3881\n",
      "Mean of list2 is  0.64707\n",
      "Variance of list1 is 1.13973309\n",
      "Variance of list2 is 0.9257232841\n"
     ]
    }
   ],
   "source": [
    "list1 = [ 5.670e-1, -1.480e+0, -5.570e-1, -1.470e+0, 7.340e-1, 1.050e+0, 4.480e-1, 2.570e-1, -1.970e+0, -1.460e+0]\n",
    "list2 = [-1.780e+0, 2.640e-1, 1.160e+0, 9.080e-1, 1.780e+0, 1.080e+0, 1.050e+0, -4.630e-2, 1.520e+0, 5.350e-1]\n",
    "# the variances of both lists should be relatively close to 1 (off by less than .15)\n",
    "\n",
    "def mean(testlist):\n",
    "    return sum(testlist) / len(testlist)\n",
    "\n",
    "mean_1 = mean(list1)\n",
    "mean_2 = mean(list2)\n",
    "\n",
    "print(\"Mean of list1 is \", mean_1)\n",
    "print(\"Mean of list2 is \", mean_2)\n",
    "\n",
    "list_var1 = list(map(lambda x: x-mean_1, list1))\n",
    "print('Variance of list1 is',sum(map(lambda x: x*x, list_var1))/len(list1))\n",
    "\n",
    "list_var2 = list(map(lambda x: x-mean_2, list2))\n",
    "print('Variance of list2 is',sum(map(lambda x: x*x, list_var2))/len(list2))\n",
    "\n"
   ]
  },
  {
   "cell_type": "markdown",
   "metadata": {},
   "source": [
    "6. Create a list with at least 15 elements in it. Use list slicing to print the following:\n",
    "* The first 5 elements of the list\n",
    "* The last 5 elements of the list\n",
    "* The list reversed (hint, show the entire list with a stride of -1)\n",
    "* Every second element in the list\n",
    "* Every third element in the list (stride of 3)"
   ]
  },
  {
   "cell_type": "code",
   "execution_count": 48,
   "metadata": {},
   "outputs": [
    {
     "name": "stdout",
     "output_type": "stream",
     "text": [
      "[0, 1, 2, 3, 4, 5, 6, 7, 8, 9, 10, 11, 12, 13, 14]\n",
      "[0, 1, 2, 3, 4]\n",
      "[4, 3, 2, 1, 0]\n",
      "[14, 13, 12, 11, 10, 9, 8, 7, 6, 5, 4, 3, 2, 1, 0]\n",
      "[1, 3, 5, 7, 9, 11, 13]\n",
      "[2, 5, 8, 11, 14]\n"
     ]
    }
   ],
   "source": [
    "my_list = list(range(15))\n",
    "print(my_list)\n",
    "\n",
    "print(my_list[:5])\n",
    "print(my_list[4::-1])\n",
    "print(my_list[::-1])\n",
    "print(my_list[1::2])\n",
    "print(my_list[2::3]) #start at index 2 since 0th index has the first number,1st index has the second number and 2nd index has the third number"
   ]
  },
  {
   "cell_type": "markdown",
   "metadata": {},
   "source": [
    "7. Build a dictionary that contains the following information about this class (with appropriate names as keys):\n",
    "* The name\n",
    "* The course number\n",
    "* The semester/term in which you are taking this course\n",
    "* The number of credit hours this course counts for\n",
    "* A list of the course learning objectives\n",
    "\n",
    "The majority of this information can be found in the syllabus. Print the dictionary."
   ]
  },
  {
   "cell_type": "code",
   "execution_count": 57,
   "metadata": {},
   "outputs": [
    {
     "name": "stdout",
     "output_type": "stream",
     "text": [
      "Web mining and applied NLP\n",
      "44-620\n",
      "Fall 2022\n",
      "3\n",
      "['L01. Manage Python libraries and packages', 'L02. Interact with Hosted Version Control Systems', 'L03. Programmatically obtain and transform data from web-based APIs and HTML pages into a usable form', 'L04. Describe the steps in a basic Natural Language Processing Pipeline', 'L05. Use preexisting tools and software libraries to perform some Natural Language Processing, such as sentiment analysis', 'L06. Explain results and conclusions drawn from the visualized information']\n",
      "\n",
      "{'Course name': 'Web mining and applied NLP', 'Course number': '44-620', 'Semester': 'Fall 2022', 'Credits': 3, 'Course Objectives': ['L01. Manage Python libraries and packages', 'L02. Interact with Hosted Version Control Systems', 'L03. Programmatically obtain and transform data from web-based APIs and HTML pages into a usable form', 'L04. Describe the steps in a basic Natural Language Processing Pipeline', 'L05. Use preexisting tools and software libraries to perform some Natural Language Processing, such as sentiment analysis', 'L06. Explain results and conclusions drawn from the visualized information']}\n"
     ]
    }
   ],
   "source": [
    "my_dict = {'Course name': 'Web mining and applied NLP', 'Course number': '44-620', 'Semester': 'Fall 2022', 'Credits': 3}\n",
    "my_dict['Course Objectives']=['L01. Manage Python libraries and packages','L02. Interact with Hosted Version Control Systems','L03. Programmatically obtain and transform data from web-based APIs and HTML pages into a usable form','L04. Describe the steps in a basic Natural Language Processing Pipeline','L05. Use preexisting tools and software libraries to perform some Natural Language Processing, such as sentiment analysis','L06. Explain results and conclusions drawn from the visualized information']\n",
    "\n",
    "print(my_dict['Course name'])\n",
    "print(my_dict['Course number'])\n",
    "print(my_dict['Semester'])\n",
    "print(my_dict['Credits'])\n",
    "print(my_dict['Course Objectives'])\n",
    "print(\"\")\n",
    "print(my_dict)"
   ]
  },
  {
   "cell_type": "markdown",
   "metadata": {},
   "source": [
    "8.  Given the dictionary defined in the code cell below, print the list of level 3 spells the character has."
   ]
  },
  {
   "cell_type": "code",
   "execution_count": 70,
   "metadata": {},
   "outputs": [
    {
     "name": "stdout",
     "output_type": "stream",
     "text": [
      "['Mass Healing Word', 'Nondetection', 'Revivify', 'Feign Death', 'Speak with Dead']\n"
     ]
    }
   ],
   "source": [
    "player_character = {'name': 'Kitab',\n",
    "                   'class': [('Cleric: Knowledge', 7)],\n",
    "                   'spells': {'cantrip': ['Guidance', 'Light', 'Thaumaturgy', 'Toll the Dead', 'Word of Radiance'],\n",
    "                             'level 1': ['Command', 'Detect Magic', 'Healing Word', 'Identify', 'Sleep'],\n",
    "                             'level 2': ['Augury', 'Calm Emotions', 'Command', 'Invisibility', 'Lesser Restoration'],\n",
    "                             'level 3': ['Mass Healing Word', 'Nondetection', 'Revivify', 'Feign Death', 'Speak with Dead'],\n",
    "                             'level 4': ['Banishment', 'Confusion']}\n",
    "                   }\n",
    "\n",
    "print(player_character['spells']['level 3'])\n",
    " "
   ]
  },
  {
   "cell_type": "markdown",
   "metadata": {},
   "source": [
    "9. Write code to determine the number of unique elements in the list below.  You MUST use a set in finding your solution.  Print the number of unique values in the list with an appropriate label."
   ]
  },
  {
   "cell_type": "code",
   "execution_count": 79,
   "metadata": {},
   "outputs": [
    {
     "name": "stdout",
     "output_type": "stream",
     "text": [
      "10\n",
      "11\n",
      "8\n",
      "1\n",
      "12\n",
      "0\n",
      "6\n",
      "5\n",
      "13\n",
      "15\n",
      "9\n",
      "7\n",
      "The number of unique values in the list are 12\n"
     ]
    }
   ],
   "source": [
    "values = [10, 11, 10, 8, 1, 12, 0, 1, 6, 5, 5, 13, 6, 15, 0, 0, 1, 1, 9, 7]\n",
    "\n",
    "unique_list = list()\n",
    "unique_items = 0\n",
    "\n",
    "for item in values:\n",
    "    if item not in unique_list:\n",
    "        unique_list.append(item)\n",
    "        print(item)\n",
    "        unique_items +=1\n",
    "print('The number of unique values in the list are', unique_items)\n"
   ]
  },
  {
   "cell_type": "markdown",
   "metadata": {},
   "source": [
    "10. Create a new Jupyter Notebook (the name of the notebook should be your S number). Add a Markdown cell that contains your name. Add a Code cell and write Python that uses loops to draw the following pattern:\n",
    "\n",
    "```\n",
    "*      *\n",
    "**    **\n",
    "***  ***\n",
    "********\n",
    "```\n",
    "Make sure to add and submit both the new notebook and the changes to this notebook for this assignment."
   ]
  },
  {
   "cell_type": "code",
   "execution_count": 80,
   "metadata": {},
   "outputs": [
    {
     "name": "stdout",
     "output_type": "stream",
     "text": [
      "*      *\n",
      "**    **\n",
      "***  ***\n",
      "********\n"
     ]
    }
   ],
   "source": [
    "rows=int(4)\n",
    "\n",
    "for i in range(rows):\n",
    "    for j in range (i+1):\n",
    "        print(\"*\",end='')\n",
    "        \n",
    "    for k in range (1, 2*rows-2*i-1):\n",
    "        print(\" \", end=\"\")\n",
    "    for l in range(0,i+1):\n",
    "        print(\"*\", end=\"\")\n",
    "           \n",
    "    print()"
   ]
  },
  {
   "cell_type": "code",
   "execution_count": null,
   "metadata": {},
   "outputs": [],
   "source": []
  }
 ],
 "metadata": {
  "kernelspec": {
   "display_name": "Python 3",
   "language": "python",
   "name": "python3"
  },
  "language_info": {
   "codemirror_mode": {
    "name": "ipython",
    "version": 3
   },
   "file_extension": ".py",
   "mimetype": "text/x-python",
   "name": "python",
   "nbconvert_exporter": "python",
   "pygments_lexer": "ipython3",
   "version": "3.7.6"
  }
 },
 "nbformat": 4,
 "nbformat_minor": 4
}
